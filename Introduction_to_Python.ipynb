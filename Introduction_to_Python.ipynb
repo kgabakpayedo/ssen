{
 "cells": [
  {
   "cell_type": "markdown",
   "id": "d464ad7e-0cc3-4976-bcd2-ae394d644b12",
   "metadata": {},
   "source": [
    "# Introduction to Python\n",
    "## 5 February 2025 "
   ]
  },
  {
   "cell_type": "markdown",
   "id": "91f8bea3",
   "metadata": {},
   "source": [
    "## Basic expressions"
   ]
  },
  {
   "cell_type": "code",
   "execution_count": 1,
   "id": "bc2b37e2",
   "metadata": {},
   "outputs": [
    {
     "data": {
      "text/plain": [
       "3"
      ]
     },
     "execution_count": 1,
     "metadata": {},
     "output_type": "execute_result"
    }
   ],
   "source": [
    "1+2 # all arithmetical operations allowed"
   ]
  },
  {
   "cell_type": "code",
   "execution_count": 2,
   "id": "ff841dfe",
   "metadata": {},
   "outputs": [
    {
     "data": {
      "text/plain": [
       "-1"
      ]
     },
     "execution_count": 2,
     "metadata": {},
     "output_type": "execute_result"
    }
   ],
   "source": [
    "1 - 2"
   ]
  },
  {
   "cell_type": "code",
   "execution_count": 3,
   "id": "6ca2e01b",
   "metadata": {},
   "outputs": [
    {
     "data": {
      "text/plain": [
       "8"
      ]
     },
     "execution_count": 3,
     "metadata": {},
     "output_type": "execute_result"
    }
   ],
   "source": [
    "2*4"
   ]
  },
  {
   "cell_type": "code",
   "execution_count": 4,
   "id": "4e467893",
   "metadata": {},
   "outputs": [
    {
     "data": {
      "text/plain": [
       "16"
      ]
     },
     "execution_count": 4,
     "metadata": {},
     "output_type": "execute_result"
    }
   ],
   "source": [
    "2**4 # power"
   ]
  },
  {
   "cell_type": "code",
   "execution_count": 5,
   "id": "5e015a05",
   "metadata": {},
   "outputs": [
    {
     "data": {
      "text/plain": [
       "0.5"
      ]
     },
     "execution_count": 5,
     "metadata": {},
     "output_type": "execute_result"
    }
   ],
   "source": [
    "2/4 # Divides the number on its left by the number on its right and returns a floating point value"
   ]
  },
  {
   "cell_type": "code",
   "execution_count": 6,
   "id": "e2e69fb5",
   "metadata": {},
   "outputs": [
    {
     "data": {
      "text/plain": [
       "0"
      ]
     },
     "execution_count": 6,
     "metadata": {},
     "output_type": "execute_result"
    }
   ],
   "source": [
    "2//4 # Divides the number on its left by the number on its right, rounds down the answer, and returns a whole number"
   ]
  },
  {
   "cell_type": "markdown",
   "id": "09fb14d7",
   "metadata": {},
   "source": [
    "## Variables"
   ]
  },
  {
   "cell_type": "code",
   "execution_count": 7,
   "id": "d0b9987c",
   "metadata": {},
   "outputs": [
    {
     "data": {
      "text/plain": [
       "2"
      ]
     },
     "execution_count": 7,
     "metadata": {},
     "output_type": "execute_result"
    }
   ],
   "source": [
    "a = 2 # numerical \n",
    "a # shows object"
   ]
  },
  {
   "cell_type": "code",
   "execution_count": 8,
   "id": "1434eb3c",
   "metadata": {},
   "outputs": [
    {
     "name": "stdout",
     "output_type": "stream",
     "text": [
      "2\n"
     ]
    }
   ],
   "source": [
    "print(a) # also shows object"
   ]
  },
  {
   "cell_type": "code",
   "execution_count": 9,
   "id": "7e2b4c3f",
   "metadata": {},
   "outputs": [
    {
     "data": {
      "text/plain": [
       "2"
      ]
     },
     "execution_count": 9,
     "metadata": {},
     "output_type": "execute_result"
    }
   ],
   "source": [
    "b = a # b references a which is a previously defined variable\n",
    "b"
   ]
  },
  {
   "cell_type": "code",
   "execution_count": 4,
   "id": "20ffed63",
   "metadata": {},
   "outputs": [
    {
     "data": {
      "text/plain": [
       "'hello'"
      ]
     },
     "execution_count": 4,
     "metadata": {},
     "output_type": "execute_result"
    }
   ],
   "source": [
    "x = \"hello\" # string\n",
    "x"
   ]
  },
  {
   "cell_type": "code",
   "execution_count": 5,
   "id": "724af396",
   "metadata": {},
   "outputs": [
    {
     "name": "stdout",
     "output_type": "stream",
     "text": [
      "hello world\n"
     ]
    }
   ],
   "source": [
    "y = \" world\"\n",
    "print(x+y) # + operator is defined on strings too"
   ]
  },
  {
   "cell_type": "code",
   "execution_count": 12,
   "id": "b89a88c6",
   "metadata": {},
   "outputs": [
    {
     "name": "stdout",
     "output_type": "stream",
     "text": [
      "hellohellohello\n"
     ]
    }
   ],
   "source": [
    "print(3*x) # * operator is defined on strings too"
   ]
  },
  {
   "cell_type": "code",
   "execution_count": 13,
   "id": "a27a5ca0",
   "metadata": {},
   "outputs": [
    {
     "name": "stdout",
     "output_type": "stream",
     "text": [
      "hel\n",
      "ello\n"
     ]
    }
   ],
   "source": [
    "print(\"hello\"[0:3]) ;print(\"hello\"[-4:]) # count of elements in string starts from 0"
   ]
  },
  {
   "cell_type": "code",
   "execution_count": 6,
   "id": "1789b8ae-c062-45cf-a700-11f924a72eb3",
   "metadata": {},
   "outputs": [
    {
     "data": {
      "text/plain": [
       "' world'"
      ]
     },
     "execution_count": 6,
     "metadata": {},
     "output_type": "execute_result"
    }
   ],
   "source": [
    "# a detail on showing objects, if I don't use 'print', it only shows the last item\n",
    "x\n",
    "y"
   ]
  },
  {
   "cell_type": "code",
   "execution_count": 7,
   "id": "98a08ce4-e3ea-487f-ad29-653f38de8c26",
   "metadata": {},
   "outputs": [
    {
     "name": "stdout",
     "output_type": "stream",
     "text": [
      "hello  world\n"
     ]
    }
   ],
   "source": [
    "# to have both, I need to use 'print'\n",
    "print(x, y)"
   ]
  },
  {
   "cell_type": "markdown",
   "id": "09ec4605-7b9f-4093-a847-4579e9447932",
   "metadata": {},
   "source": [
    "## Lists, tuples, dictionaries"
   ]
  },
  {
   "cell_type": "code",
   "execution_count": 3,
   "id": "147c6aaa",
   "metadata": {},
   "outputs": [
    {
     "data": {
      "text/plain": [
       "1"
      ]
     },
     "execution_count": 3,
     "metadata": {},
     "output_type": "execute_result"
    }
   ],
   "source": [
    "lst = [1, 2, 'hello'] # list: a sequence that may contain heterogeneous objects\n",
    "lst[0] # count of elements in list starts from 0"
   ]
  },
  {
   "cell_type": "code",
   "execution_count": 15,
   "id": "d8fb39b5",
   "metadata": {},
   "outputs": [
    {
     "data": {
      "text/plain": [
       "[2, 2, 'hello']"
      ]
     },
     "execution_count": 15,
     "metadata": {},
     "output_type": "execute_result"
    }
   ],
   "source": [
    "lst[0] = b  # list is modifiable\n",
    "lst"
   ]
  },
  {
   "cell_type": "code",
   "execution_count": 16,
   "id": "f5745886",
   "metadata": {},
   "outputs": [
    {
     "data": {
      "text/plain": [
       "[3, 2, 'hello']"
      ]
     },
     "execution_count": 16,
     "metadata": {},
     "output_type": "execute_result"
    }
   ],
   "source": [
    "lst[0] = 3 # list is modifiable\n",
    "lst"
   ]
  },
  {
   "cell_type": "code",
   "execution_count": 17,
   "id": "7e47c5db",
   "metadata": {},
   "outputs": [
    {
     "data": {
      "text/plain": [
       "'b'"
      ]
     },
     "execution_count": 17,
     "metadata": {},
     "output_type": "execute_result"
    }
   ],
   "source": [
    "myTuple = 'a','b','c','d' # \"tuple\" is a non-modifiable sequence\n",
    "myTuple[1]"
   ]
  },
  {
   "cell_type": "code",
   "execution_count": null,
   "id": "dd5450ae",
   "metadata": {},
   "outputs": [],
   "source": [
    "myTuple[1] = 'e' # this gives an error: tuple is not modifiable"
   ]
  },
  {
   "cell_type": "code",
   "execution_count": null,
   "id": "64b90cfc",
   "metadata": {},
   "outputs": [],
   "source": [
    "dic = {'a': 1, 'b': 2} # dictionary is not a sequence, but a set of values accessed by keys\n",
    "dic['a'] # get the value based on the key"
   ]
  },
  {
   "cell_type": "code",
   "execution_count": null,
   "id": "24b8ca78",
   "metadata": {},
   "outputs": [],
   "source": [
    "dic['b'] = 3 # dictionary can be changed\n",
    "dic"
   ]
  },
  {
   "cell_type": "code",
   "execution_count": null,
   "id": "74a52778",
   "metadata": {},
   "outputs": [],
   "source": [
    "dicBis={'c':4,'d':5} # items can be added to dictionary\n",
    "dic.update(dicBis)\n",
    "dic"
   ]
  },
  {
   "cell_type": "code",
   "execution_count": null,
   "id": "81d19a87",
   "metadata": {},
   "outputs": [],
   "source": [
    "# possible to iterate on dictionaries\n",
    "phonebook = {\"John\" : 938477566,\"Jack\" : 938377264,\"Jill\" : 947662781}\n",
    "for name, number in phonebook.items():\n",
    "    print(\"Phone number of %s is %d\" % (name, number))"
   ]
  },
  {
   "cell_type": "markdown",
   "id": "d2ff5bfd",
   "metadata": {},
   "source": [
    "## Writing instructions"
   ]
  },
  {
   "cell_type": "code",
   "execution_count": null,
   "id": "b8b5b874",
   "metadata": {},
   "outputs": [],
   "source": [
    "if (a > 1):  # one instruction per line\n",
    "    print(a) # importance of indentation"
   ]
  },
  {
   "cell_type": "code",
   "execution_count": null,
   "id": "eae722be",
   "metadata": {},
   "outputs": [],
   "source": [
    "if (a > 1 and b < 5): # there may be several conditions; \"and\" is a logical operator (like \"not\" and \"or\")\n",
    "    print(a + b)"
   ]
  },
  {
   "cell_type": "code",
   "execution_count": null,
   "id": "e847c379",
   "metadata": {},
   "outputs": [],
   "source": [
    "if (a > 1 or b > 5): # \"or\" is another logical operator\n",
    "    print(a + b)"
   ]
  },
  {
   "cell_type": "markdown",
   "id": "27fd10aa",
   "metadata": {},
   "source": [
    "## Control of flows"
   ]
  },
  {
   "cell_type": "code",
   "execution_count": 20,
   "id": "0ff6865c",
   "metadata": {},
   "outputs": [
    {
     "name": "stdout",
     "output_type": "stream",
     "text": [
      "a>b\n"
     ]
    }
   ],
   "source": [
    "if a > b: # don't forget the colon at the end of an if (or elif, else, while, for) line\n",
    "  print('a>b')\n",
    "elif a == b:  # elif means \"else if\"\n",
    "  print('a==b') # use \"==\" for equal (\"!=\" for unequal)\n",
    "else:\n",
    "  print('a<b')"
   ]
  },
  {
   "cell_type": "code",
   "execution_count": 18,
   "id": "08420c8a",
   "metadata": {},
   "outputs": [
    {
     "name": "stdout",
     "output_type": "stream",
     "text": [
      "2\n",
      "3\n",
      "4\n",
      "5\n"
     ]
    }
   ],
   "source": [
    "# While loops repeat as long as a certain boolean condition is met\n",
    "max = 5 \n",
    "while a <= max: # use \"<=\" for \"inferior or equal to\"\n",
    "    print(a)\n",
    "    a += 1  # means increment a by 1"
   ]
  },
  {
   "cell_type": "code",
   "execution_count": 19,
   "id": "277e9f4b",
   "metadata": {},
   "outputs": [
    {
     "name": "stdout",
     "output_type": "stream",
     "text": [
      "a\n",
      "b\n",
      "c\n"
     ]
    }
   ],
   "source": [
    "for i in ['a', 'b', 'c']: # for loop\n",
    "    print(i)"
   ]
  },
  {
   "cell_type": "code",
   "execution_count": 21,
   "id": "0f557d84",
   "metadata": {},
   "outputs": [
    {
     "name": "stdout",
     "output_type": "stream",
     "text": [
      "0\n",
      "1\n",
      "2\n",
      "3\n",
      "4\n",
      "5\n",
      "6\n",
      "7\n",
      "8\n",
      "9\n"
     ]
    }
   ],
   "source": [
    "for i in range(10): # range starts count from 0\n",
    "    print(i)"
   ]
  },
  {
   "cell_type": "code",
   "execution_count": 22,
   "id": "afb09d8b",
   "metadata": {},
   "outputs": [
    {
     "name": "stdout",
     "output_type": "stream",
     "text": [
      "0\n",
      "1\n",
      "3\n"
     ]
    }
   ],
   "source": [
    "for i in range(4):\n",
    "    if i == 2:\n",
    "        continue # continue is used to skip the current block, and return to the \"for\" or \"while\" statement\n",
    "    print(i)"
   ]
  },
  {
   "cell_type": "code",
   "execution_count": 23,
   "id": "acf40a94",
   "metadata": {},
   "outputs": [
    {
     "name": "stdout",
     "output_type": "stream",
     "text": [
      "0\n",
      "1\n",
      "2\n",
      "3\n"
     ]
    }
   ],
   "source": [
    "for i in range(6):\n",
    "    if i == 4:\n",
    "        break # break is used to exit a for loop or a while loop\n",
    "    print(i)"
   ]
  },
  {
   "cell_type": "markdown",
   "id": "d2a04fd9",
   "metadata": {},
   "source": [
    "## Functions"
   ]
  },
  {
   "cell_type": "code",
   "execution_count": 24,
   "id": "f5dcf288",
   "metadata": {},
   "outputs": [],
   "source": [
    "#definition\n",
    "def myFunction():\n",
    "    pass\n",
    "\n",
    "# this function does not do anything!"
   ]
  },
  {
   "cell_type": "code",
   "execution_count": 25,
   "id": "f0096e38",
   "metadata": {},
   "outputs": [
    {
     "name": "stdout",
     "output_type": "stream",
     "text": [
      "hello Jack and Jill\n"
     ]
    }
   ],
   "source": [
    "def myNewFunction(a, b):\n",
    "    print('hello', a, 'and', b)\n",
    "\n",
    "myNewFunction(\"Jack\", \"Jill\")"
   ]
  },
  {
   "cell_type": "code",
   "execution_count": 26,
   "id": "111a25bf",
   "metadata": {},
   "outputs": [],
   "source": [
    "def divs(x,y): # user-defined function, must start with \"def\"\n",
    "  if y!=0:\n",
    "    print(x,'/',y,':',x/y)\n",
    "    print(x,'//',y,':',x//y)\n",
    "    return True # must end with \"return\"\n",
    "  else:\n",
    "    return False"
   ]
  },
  {
   "cell_type": "code",
   "execution_count": 27,
   "id": "1808d80f",
   "metadata": {},
   "outputs": [
    {
     "name": "stdout",
     "output_type": "stream",
     "text": [
      "3 / 2 : 1.5\n",
      "3 // 2 : 1\n"
     ]
    },
    {
     "data": {
      "text/plain": [
       "True"
      ]
     },
     "execution_count": 27,
     "metadata": {},
     "output_type": "execute_result"
    }
   ],
   "source": [
    "divs(3,2) # test result"
   ]
  },
  {
   "cell_type": "markdown",
   "id": "a33f29bd",
   "metadata": {},
   "source": [
    "## Use libraries"
   ]
  },
  {
   "cell_type": "code",
   "execution_count": 28,
   "id": "fd0c038f",
   "metadata": {},
   "outputs": [
    {
     "name": "stdout",
     "output_type": "stream",
     "text": [
      "3\n"
     ]
    }
   ],
   "source": [
    "import random   # usually, this is done at the very beginning of a session\n",
    "rand_number = random.randint(1, 100)\n",
    "print(rand_number)"
   ]
  },
  {
   "cell_type": "code",
   "execution_count": 8,
   "id": "1b8a43cb",
   "metadata": {},
   "outputs": [],
   "source": [
    "## We will use in particulat these packages\n",
    "# import package networkx\n",
    "import networkx as nx # you can custom import name\n",
    "# import matplotlib (to draw better graphs)\n",
    "import matplotlib.pyplot as plt # custom import name\n",
    "# import package pandas (for data analysis)\n",
    "import pandas as pd # custom import name\n",
    "# import package numpy (for calculations on arrays and matrices)\n",
    "import numpy as np"
   ]
  },
  {
   "cell_type": "code",
   "execution_count": null,
   "id": "b437e4ec-8a87-43ce-be9e-2029acae239f",
   "metadata": {},
   "outputs": [],
   "source": []
  }
 ],
 "metadata": {
  "kernelspec": {
   "display_name": "Python 3 (ipykernel)",
   "language": "python",
   "name": "python3"
  },
  "language_info": {
   "codemirror_mode": {
    "name": "ipython",
    "version": 3
   },
   "file_extension": ".py",
   "mimetype": "text/x-python",
   "name": "python",
   "nbconvert_exporter": "python",
   "pygments_lexer": "ipython3",
   "version": "3.12.7"
  }
 },
 "nbformat": 4,
 "nbformat_minor": 5
}
