{
 "cells": [
  {
   "cell_type": "markdown",
   "metadata": {},
   "source": [
    "# Preparation"
   ]
  },
  {
   "cell_type": "code",
   "execution_count": null,
   "metadata": {},
   "outputs": [],
   "source": [
    "# import package networkx\n",
    "import networkx as nx\n",
    "# import matplotlib (to draw better graphs)\n",
    "import matplotlib.pyplot as plt"
   ]
  },
  {
   "cell_type": "markdown",
   "metadata": {},
   "source": [
    "# Create and examine an undirected graph"
   ]
  },
  {
   "cell_type": "code",
   "execution_count": null,
   "metadata": {},
   "outputs": [],
   "source": [
    "# Generate G as an empty undirected graph\n",
    "G = nx.Graph()\n",
    "G"
   ]
  },
  {
   "cell_type": "code",
   "execution_count": null,
   "metadata": {},
   "outputs": [],
   "source": [
    "# Add a node\n",
    "G.add_node(1)\n",
    "G"
   ]
  },
  {
   "cell_type": "code",
   "execution_count": null,
   "metadata": {},
   "outputs": [],
   "source": [
    "# Add a list of nodes\n",
    "G.add_nodes_from([2, 3, 4])\n",
    "\n",
    "# View nodes\n",
    "G.nodes()"
   ]
  },
  {
   "cell_type": "code",
   "execution_count": null,
   "metadata": {},
   "outputs": [],
   "source": [
    "# Add an edge\n",
    "G.add_edge (1,2)"
   ]
  },
  {
   "cell_type": "code",
   "execution_count": null,
   "metadata": {},
   "outputs": [],
   "source": [
    "# Add a list of edges \n",
    "G.add_edges_from([(2, 4), (1, 3)])\n",
    "\n",
    "# View edges\n",
    "G.edges()"
   ]
  },
  {
   "cell_type": "markdown",
   "metadata": {},
   "source": [
    "## Simple properties"
   ]
  },
  {
   "cell_type": "code",
   "execution_count": null,
   "metadata": {},
   "outputs": [],
   "source": [
    "# Simple properties:  number of nodes \n",
    "G.number_of_nodes() "
   ]
  },
  {
   "cell_type": "code",
   "execution_count": null,
   "metadata": {},
   "outputs": [],
   "source": [
    "# Simple properties: number of edges\n",
    "G.number_of_edges ()"
   ]
  },
  {
   "cell_type": "code",
   "execution_count": null,
   "metadata": {},
   "outputs": [],
   "source": [
    "# Degree ( = number of edges incident to each node)\n",
    "G.degree ()"
   ]
  },
  {
   "cell_type": "code",
   "execution_count": null,
   "metadata": {},
   "outputs": [],
   "source": [
    "# Degree of a specific node ( = the number of edges incident to it)\n",
    "G.degree (1)"
   ]
  },
  {
   "cell_type": "code",
   "execution_count": null,
   "metadata": {},
   "outputs": [],
   "source": [
    "# Who are the neighbors of a particular node (eg node 1)?\n",
    "list(G.adj[1])"
   ]
  },
  {
   "cell_type": "code",
   "execution_count": null,
   "metadata": {},
   "outputs": [],
   "source": [
    "# To remove nodes\n",
    "G.remove_node(2)\n",
    "# View results\n",
    "G.nodes()"
   ]
  },
  {
   "cell_type": "code",
   "execution_count": null,
   "metadata": {},
   "outputs": [],
   "source": [
    "# To remove edges\n",
    "G.remove_edge(1, 3)\n",
    "\n",
    "# View results\n",
    "G.edges()"
   ]
  },
  {
   "cell_type": "code",
   "execution_count": null,
   "metadata": {},
   "outputs": [],
   "source": [
    "# Removing all nodes and edges\n",
    "G.clear()"
   ]
  },
  {
   "cell_type": "markdown",
   "metadata": {},
   "source": [
    "### Mini-exercise\n",
    "\n",
    "Create an undirected graph with 6 nodes and 11 edges. Then look at its degrees.\n"
   ]
  },
  {
   "cell_type": "markdown",
   "metadata": {},
   "source": [
    "## Nodes with attributes"
   ]
  },
  {
   "cell_type": "code",
   "execution_count": null,
   "metadata": {},
   "outputs": [],
   "source": [
    "# Add nodes with attributes\n",
    "G.add_nodes_from([\n",
    "    (1, {\"color\": \"red\"}),\n",
    "    (2, {\"color\": \"red\"}),\n",
    "    (3, {\"color\": \"green\"}),\n",
    "    (4, {\"color\": \"red\"}),\n",
    "    (5, {\"color\": \"green\"}),\n",
    "    ])"
   ]
  },
  {
   "cell_type": "markdown",
   "metadata": {},
   "source": [
    "## Simple graph generators"
   ]
  },
  {
   "cell_type": "code",
   "execution_count": null,
   "metadata": {},
   "outputs": [],
   "source": [
    "########### Simple graph generators ###########\n",
    "\n",
    "# complete graph\n",
    "G1 = nx.complete_graph (10)\n",
    "print(G1.nodes())\n",
    "print(G1.edges())"
   ]
  },
  {
   "cell_type": "code",
   "execution_count": null,
   "metadata": {},
   "outputs": [],
   "source": [
    "# check number of edges\n",
    "G1.number_of_edges()"
   ]
  },
  {
   "cell_type": "code",
   "execution_count": null,
   "metadata": {},
   "outputs": [],
   "source": [
    "# draw graph\n",
    "nx.draw(G1)\n",
    "plt.show()"
   ]
  },
  {
   "cell_type": "code",
   "execution_count": null,
   "metadata": {},
   "outputs": [],
   "source": [
    "# chain\n",
    "G2 = nx.path_graph (10)\n",
    "print(G2.nodes())\n",
    "print(G2.edges())"
   ]
  },
  {
   "cell_type": "code",
   "execution_count": null,
   "metadata": {},
   "outputs": [],
   "source": [
    "# draw graph\n",
    "nx.draw(G2)\n",
    "plt.show()"
   ]
  },
  {
   "cell_type": "markdown",
   "metadata": {},
   "source": [
    "### Generate graph from (weighted) edgelist"
   ]
  },
  {
   "cell_type": "code",
   "execution_count": null,
   "metadata": {},
   "outputs": [],
   "source": [
    "# generate new empty undirected graph\n",
    "G3 = nx.Graph() "
   ]
  },
  {
   "cell_type": "code",
   "execution_count": null,
   "metadata": {},
   "outputs": [],
   "source": [
    "# enter data in edgelist format (source, destination, weight)\n",
    "data = [\n",
    "    ['A', 'B', 29],\n",
    "    ['C', 'D', 26],\n",
    "    ['C', 'B', 12]\n",
    "]"
   ]
  },
  {
   "cell_type": "code",
   "execution_count": null,
   "metadata": {},
   "outputs": [],
   "source": [
    "# add edges to graph\n",
    "for row in data:\n",
    "    node1 = row[0]\n",
    "    node2 = row[1]\n",
    "    weight = row[2]  # convert weight to a number\n",
    "    G3.add_edge(node1, node2, weight=weight)"
   ]
  },
  {
   "cell_type": "code",
   "execution_count": null,
   "metadata": {},
   "outputs": [],
   "source": [
    "# see basic properties of graph\n",
    "print(G3.nodes())\n",
    "print(G3.edges())"
   ]
  },
  {
   "cell_type": "markdown",
   "metadata": {},
   "source": [
    "## Graphs from empirical data "
   ]
  },
  {
   "cell_type": "code",
   "execution_count": null,
   "metadata": {},
   "outputs": [],
   "source": [
    "# generate new digraph by reading edgelist (from empirical data)\n",
    "# it is a \"DiGraph\" (not \"Graph\") because it is directed\n",
    "ELadviceG = nx.read_edgelist('ELadvice_edgelist.txt',comments=\"node\",create_using=nx.DiGraph(),nodetype=int)"
   ]
  },
  {
   "cell_type": "code",
   "execution_count": null,
   "metadata": {},
   "outputs": [],
   "source": [
    "# see basic properties of graph\n",
    "ELadviceG.number_of_nodes()"
   ]
  },
  {
   "cell_type": "code",
   "execution_count": null,
   "metadata": {},
   "outputs": [],
   "source": [
    "ELadviceG.number_of_edges()"
   ]
  },
  {
   "cell_type": "code",
   "execution_count": null,
   "metadata": {},
   "outputs": [],
   "source": [
    "# Outdegree ( = number of edges going out from each node)\n",
    "# because this is a digraph\n",
    "ELadviceG.out_degree()"
   ]
  },
  {
   "cell_type": "code",
   "execution_count": null,
   "metadata": {},
   "outputs": [],
   "source": [
    "# Indegree ( = number of edges coming to each node)\n",
    "# because this is a digraph\n",
    "ELadviceG.in_degree()"
   ]
  },
  {
   "cell_type": "code",
   "execution_count": null,
   "metadata": {},
   "outputs": [],
   "source": [
    "# Who are the neighbours of a node here?\n",
    "# With directed graphs, distinguish \"predecessors\" and \"successors\"\n",
    "# The predecessors of a node n are the nodes m such that there exists a directed edge from m to n.\n",
    "\n",
    "list(ELadviceG.predecessors(32)) # take for example the predecessors of node 32"
   ]
  },
  {
   "cell_type": "code",
   "execution_count": null,
   "metadata": {},
   "outputs": [],
   "source": [
    "# The successors of a node n are the nodes h such that there exists a directed edge from n to h.\n",
    "\n",
    "list(ELadviceG.successors(71)) # successors of node 71"
   ]
  },
  {
   "cell_type": "markdown",
   "metadata": {},
   "source": [
    "### Mini-exercise\n",
    "\n",
    "Look at the degrees (= indegrees + outdegrees) of ELadviceG.\n",
    "\n",
    "Plot the graph.\n"
   ]
  },
  {
   "cell_type": "markdown",
   "metadata": {},
   "source": [
    "## Home exercise (optional: a solution will be provided next week)\n",
    "\n",
    "1. Load ELfriend\n",
    "\n",
    "1a. Create graph; see its basic properties; view nodes; view edges; calculate in- and out-degrees; view the neighbors of one node of your choice; plot graph;\n",
    "\n",
    "1b. Replace two edges of your choice and re-do 1a.\n",
    "\n",
    "\n",
    "2. Load ELcowork\n",
    "\n",
    "2a. Create graph; see its basic properties; view nodes; view edges; calculate degrees; view the neighbors of one node of your choice; plot graph;\n",
    "\n",
    "2b. Remove three nodes of your choice and re-do 2a.\n",
    "\n",
    "\n",
    "NB: Careful: ELfriend is an asymmetric matrix (like ELadvice), while ELcowork is symmetric"
   ]
  },
  {
   "cell_type": "code",
   "execution_count": null,
   "metadata": {},
   "outputs": [],
   "source": []
  }
 ],
 "metadata": {
  "kernelspec": {
   "display_name": "Python 3 (ipykernel)",
   "language": "python",
   "name": "python3"
  },
  "language_info": {
   "codemirror_mode": {
    "name": "ipython",
    "version": 3
   },
   "file_extension": ".py",
   "mimetype": "text/x-python",
   "name": "python",
   "nbconvert_exporter": "python",
   "pygments_lexer": "ipython3",
   "version": "3.12.7"
  }
 },
 "nbformat": 4,
 "nbformat_minor": 4
}
